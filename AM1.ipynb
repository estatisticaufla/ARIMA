{
  "nbformat": 4,
  "nbformat_minor": 0,
  "metadata": {
    "colab": {
      "name": "AM1.ipynb",
      "provenance": [],
      "authorship_tag": "ABX9TyO9fIa8hy9Zz7kq26uQhUPa",
      "include_colab_link": true
    },
    "kernelspec": {
      "name": "python3",
      "display_name": "Python 3"
    },
    "language_info": {
      "name": "python"
    }
  },
  "cells": [
    {
      "cell_type": "markdown",
      "metadata": {
        "id": "view-in-github",
        "colab_type": "text"
      },
      "source": [
        "<a href=\"https://colab.research.google.com/github/estatisticaufla/ARIMA/blob/master/AM1.ipynb\" target=\"_parent\"><img src=\"https://colab.research.google.com/assets/colab-badge.svg\" alt=\"Open In Colab\"/></a>"
      ]
    },
    {
      "cell_type": "code",
      "metadata": {
        "id": "5Xq9CV2t33qQ"
      },
      "source": [
        "# Introdução ao Aprendizado de Máquinas (AM)\n",
        "\n",
        "# Análise exploratória de dados (AED)\n"
      ],
      "execution_count": null,
      "outputs": []
    },
    {
      "cell_type": "code",
      "metadata": {
        "id": "Q9qVAkq-65IP",
        "colab": {
          "base_uri": "https://localhost:8080/"
        },
        "outputId": "495dd996-ec09-47da-db75-8d9758a83aa8"
      },
      "source": [
        "import pandas as pd\n",
        "\n",
        "url = 'https://raw.githubusercontent.com/jbrownlee/Datasets/master/iris.csv'\n",
        "names = ['sepal-length', 'sepal-width', 'petal-length', 'petal-width', 'class']\n",
        "dataset = pd.read_csv(url, names=names)\n",
        "\n",
        "print(dataset.head(20))"
      ],
      "execution_count": 1,
      "outputs": [
        {
          "output_type": "stream",
          "text": [
            "    sepal-length  sepal-width  petal-length  petal-width        class\n",
            "0            5.1          3.5           1.4          0.2  Iris-setosa\n",
            "1            4.9          3.0           1.4          0.2  Iris-setosa\n",
            "2            4.7          3.2           1.3          0.2  Iris-setosa\n",
            "3            4.6          3.1           1.5          0.2  Iris-setosa\n",
            "4            5.0          3.6           1.4          0.2  Iris-setosa\n",
            "5            5.4          3.9           1.7          0.4  Iris-setosa\n",
            "6            4.6          3.4           1.4          0.3  Iris-setosa\n",
            "7            5.0          3.4           1.5          0.2  Iris-setosa\n",
            "8            4.4          2.9           1.4          0.2  Iris-setosa\n",
            "9            4.9          3.1           1.5          0.1  Iris-setosa\n",
            "10           5.4          3.7           1.5          0.2  Iris-setosa\n",
            "11           4.8          3.4           1.6          0.2  Iris-setosa\n",
            "12           4.8          3.0           1.4          0.1  Iris-setosa\n",
            "13           4.3          3.0           1.1          0.1  Iris-setosa\n",
            "14           5.8          4.0           1.2          0.2  Iris-setosa\n",
            "15           5.7          4.4           1.5          0.4  Iris-setosa\n",
            "16           5.4          3.9           1.3          0.4  Iris-setosa\n",
            "17           5.1          3.5           1.4          0.3  Iris-setosa\n",
            "18           5.7          3.8           1.7          0.3  Iris-setosa\n",
            "19           5.1          3.8           1.5          0.3  Iris-setosa\n"
          ],
          "name": "stdout"
        }
      ]
    },
    {
      "cell_type": "code",
      "metadata": {
        "id": "U2APgNUr78o8",
        "colab": {
          "base_uri": "https://localhost:8080/"
        },
        "outputId": "5aa15ca2-f04d-435f-d369-71b41373d1fd"
      },
      "source": [
        "# resumo dos dados\n",
        "\n",
        "print(dataset.describe())"
      ],
      "execution_count": 2,
      "outputs": [
        {
          "output_type": "stream",
          "text": [
            "       sepal-length  sepal-width  petal-length  petal-width\n",
            "count    150.000000   150.000000    150.000000   150.000000\n",
            "mean       5.843333     3.054000      3.758667     1.198667\n",
            "std        0.828066     0.433594      1.764420     0.763161\n",
            "min        4.300000     2.000000      1.000000     0.100000\n",
            "25%        5.100000     2.800000      1.600000     0.300000\n",
            "50%        5.800000     3.000000      4.350000     1.300000\n",
            "75%        6.400000     3.300000      5.100000     1.800000\n",
            "max        7.900000     4.400000      6.900000     2.500000\n"
          ],
          "name": "stdout"
        }
      ]
    },
    {
      "cell_type": "code",
      "metadata": {
        "id": "KGHi6f218I6U",
        "colab": {
          "base_uri": "https://localhost:8080/"
        },
        "outputId": "376db073-5c1e-46e5-f0c3-4755bb46452a"
      },
      "source": [
        "print(dataset.groupby('class').size()) # distribuição por classes"
      ],
      "execution_count": 3,
      "outputs": [
        {
          "output_type": "stream",
          "text": [
            "class\n",
            "Iris-setosa        50\n",
            "Iris-versicolor    50\n",
            "Iris-virginica     50\n",
            "dtype: int64\n"
          ],
          "name": "stdout"
        }
      ]
    },
    {
      "cell_type": "code",
      "metadata": {
        "id": "ynS2azWX8qnS",
        "colab": {
          "base_uri": "https://localhost:8080/",
          "height": 267
        },
        "outputId": "5171c9de-1229-4d9f-eb87-197cfb889daf"
      },
      "source": [
        "# Visualização dos dados\n",
        "\n",
        "import matplotlib.pyplot as plt\n",
        "\n",
        "dataset.plot(kind='box', subplots=True, layout=(2,2), sharex=False, sharey=False)\n",
        "plt.show() # gráfico boxplot"
      ],
      "execution_count": 4,
      "outputs": [
        {
          "output_type": "display_data",
          "data": {
            "image/png": "[encoded data removed]",
            "text/plain": [
              "<Figure size 432x288 with 4 Axes>"
            ]
          },
          "metadata": {
            "tags": [],
            "needs_background": "light"
          }
        }
      ]
    },
    {
      "cell_type": "code",
      "metadata": {
        "id": "-xHPOQW_oRkw",
        "colab": {
          "base_uri": "https://localhost:8080/",
          "height": 296
        },
        "outputId": "7f2dac63-e0d5-4ee4-922c-35e5a2eb7a17"
      },
      "source": [
        "# ou da forma\n",
        "\n",
        "import seaborn as sns\n",
        "\n",
        "sns.boxplot(x=\"class\", y=\"petal-length\", data=dataset)"
      ],
      "execution_count": 5,
      "outputs": [
        {
          "output_type": "execute_result",
          "data": {
            "text/plain": [
              "<matplotlib.axes._subplots.AxesSubplot at 0x7f92e40d5a10>"
            ]
          },
          "metadata": {
            "tags": []
          },
          "execution_count": 5
        },
        {
          "output_type": "display_data",
          "data": {
            "image/png": "[encoded data removed]",
            "text/plain": [
              "<Figure size 432x288 with 1 Axes>"
            ]
          },
          "metadata": {
            "tags": [],
            "needs_background": "light"
          }
        }
      ]
    },
    {
      "cell_type": "code",
      "metadata": {
        "colab": {
          "base_uri": "https://localhost:8080/",
          "height": 281
        },
        "id": "Q3lGttM-idK9",
        "outputId": "ee6bb8cc-a9a1-40b5-9f85-bd1c5ff620ae"
      },
      "source": [
        "dataset.hist()\n",
        "plt.show() # histograma"
      ],
      "execution_count": 6,
      "outputs": [
        {
          "output_type": "display_data",
          "data": {
            "image/png": "[encoded data removed]",
            "text/plain": [
              "<Figure size 432x288 with 4 Axes>"
            ]
          },
          "metadata": {
            "tags": [],
            "needs_background": "light"
          }
        }
      ]
    },
    {
      "cell_type": "code",
      "metadata": {
        "id": "3z78QHz1ipjt",
        "colab": {
          "base_uri": "https://localhost:8080/",
          "height": 500
        },
        "outputId": "7d08b727-4955-4d91-bca6-a6e40faa1d72"
      },
      "source": [
        "from pandas.plotting import scatter_matrix\n",
        "scatter_matrix(dataset, figsize=(8,8))\n",
        "plt.show()"
      ],
      "execution_count": 7,
      "outputs": [
        {
          "output_type": "display_data",
          "data": {
            "image/png": "[encoded data removed]",
            "text/plain": [
              "<Figure size 576x576 with 16 Axes>"
            ]
          },
          "metadata": {
            "tags": [],
            "needs_background": "light"
          }
        }
      ]
    },
    {
      "cell_type": "code",
      "metadata": {
        "id": "z0Dj_3mFNZiX",
        "colab": {
          "base_uri": "https://localhost:8080/",
          "height": 386
        },
        "outputId": "d9a61297-05b2-476e-be10-49671f22e6d0"
      },
      "source": [
        "sns.FacetGrid(dataset, height=5,hue=\"class\").map(plt.scatter,\"sepal-length\",\"sepal-width\").add_legend()"
      ],
      "execution_count": 8,
      "outputs": [
        {
          "output_type": "execute_result",
          "data": {
            "text/plain": [
              "<seaborn.axisgrid.FacetGrid at 0x7f92e32de790>"
            ]
          },
          "metadata": {
            "tags": []
          },
          "execution_count": 8
        },
        {
          "output_type": "display_data",
          "data": {
            "image/png": "[encoded data removed]",
            "text/plain": [
              "<Figure size 463.25x360 with 1 Axes>"
            ]
          },
          "metadata": {
            "tags": [],
            "needs_background": "light"
          }
        }
      ]
    },
    {
      "cell_type": "code",
      "metadata": {
        "id": "Nn30eJJnOA5r",
        "colab": {
          "base_uri": "https://localhost:8080/",
          "height": 386
        },
        "outputId": "47a1f3f2-368e-483e-bc65-ba9b83f88bc4"
      },
      "source": [
        "sns.FacetGrid(dataset, height=5,hue=\"class\").map(plt.scatter,\"petal-length\",\"petal-width\").add_legend()"
      ],
      "execution_count": 9,
      "outputs": [
        {
          "output_type": "execute_result",
          "data": {
            "text/plain": [
              "<seaborn.axisgrid.FacetGrid at 0x7f92e32de590>"
            ]
          },
          "metadata": {
            "tags": []
          },
          "execution_count": 9
        },
        {
          "output_type": "display_data",
          "data": {
            "image/png": "[encoded data removed]",
            "text/plain": [
              "<Figure size 463.25x360 with 1 Axes>"
            ]
          },
          "metadata": {
            "tags": [],
            "needs_background": "light"
          }
        }
      ]
    },
    {
      "cell_type": "code",
      "metadata": {
        "id": "rKPfOEmhr4R0"
      },
      "source": [
        "# Conjunto de treinamento e de teste\n",
        "\n",
        "from sklearn import model_selection\n",
        "\n",
        "array = dataset.values\n",
        "X = array[:,0:4]\n",
        "Y = array[:,4]\n",
        "validation_size = 0.20\n",
        "seed = 10\n",
        "x_train, x_test, y_train, y_test = model_selection.train_test_split(X, Y, test_size=validation_size, random_state=seed)"
      ],
      "execution_count": 11,
      "outputs": []
    },
    {
      "cell_type": "code",
      "metadata": {
        "colab": {
          "base_uri": "https://localhost:8080/"
        },
        "id": "3zjOq0RDsJHu",
        "outputId": "271ebd45-60a7-468c-f0b5-ce4cf697f6c2"
      },
      "source": [
        "from sklearn.preprocessing import StandardScaler\n",
        "scaler = StandardScaler() # escalonamento (transformação nos dados)\n",
        "scaler.fit(x_train)"
      ],
      "execution_count": 12,
      "outputs": [
        {
          "output_type": "execute_result",
          "data": {
            "text/plain": [
              "StandardScaler(copy=True, with_mean=True, with_std=True)"
            ]
          },
          "metadata": {
            "tags": []
          },
          "execution_count": 12
        }
      ]
    },
    {
      "cell_type": "code",
      "metadata": {
        "id": "KGU1wPa8gaEt"
      },
      "source": [
        "x_train = scaler.transform(x_train)  \n",
        "x_test = scaler.transform(x_test)"
      ],
      "execution_count": 13,
      "outputs": []
    },
    {
      "cell_type": "code",
      "metadata": {
        "id": "Bi7oEoEGbAol"
      },
      "source": [
        "### k-NN"
      ],
      "execution_count": null,
      "outputs": []
    },
    {
      "cell_type": "code",
      "metadata": {
        "colab": {
          "base_uri": "https://localhost:8080/"
        },
        "id": "HJUuZt1FgmkA",
        "outputId": "4a393383-ca1e-4f72-8b6d-6a7ffb9a53df"
      },
      "source": [
        "# Treinamento e Previsões\n",
        "\n",
        "from sklearn.neighbors import KNeighborsClassifier  \n",
        "\n",
        "knn = KNeighborsClassifier(n_neighbors=5, metric='euclidean')\n",
        "knn.fit(x_train, y_train)"
      ],
      "execution_count": null,
      "outputs": [
        {
          "output_type": "execute_result",
          "data": {
            "text/plain": [
              "KNeighborsClassifier(algorithm='auto', leaf_size=30, metric='euclidean',\n",
              "                     metric_params=None, n_jobs=None, n_neighbors=5, p=2,\n",
              "                     weights='uniform')"
            ]
          },
          "metadata": {
            "tags": []
          },
          "execution_count": 68
        }
      ]
    },
    {
      "cell_type": "code",
      "metadata": {
        "id": "gNJ1TVCVg15P"
      },
      "source": [
        "# Fazendo as previsões sobre os dados de teste\n",
        "\n",
        "y_pred = knn.predict(x_test)\n",
        "print(y_pred)"
      ],
      "execution_count": null,
      "outputs": []
    },
    {
      "cell_type": "code",
      "metadata": {
        "colab": {
          "base_uri": "https://localhost:8080/"
        },
        "id": "or50NwExg998",
        "outputId": "aa1bfe51-1d6a-4413-9d87-65b180850e19"
      },
      "source": [
        "# Avaliando o Algoritmo\n",
        "\n",
        "from sklearn.metrics import classification_report, confusion_matrix \n",
        "\n",
        "print(confusion_matrix(y_test, y_pred)) \n",
        "print(classification_report(y_test, y_pred))  "
      ],
      "execution_count": null,
      "outputs": [
        {
          "output_type": "stream",
          "text": [
            "[[11  0  0]\n",
            " [ 0 14  1]\n",
            " [ 0  0 12]]\n",
            "                 precision    recall  f1-score   support\n",
            "\n",
            "    Iris-setosa       1.00      1.00      1.00        11\n",
            "Iris-versicolor       1.00      0.93      0.97        15\n",
            " Iris-virginica       0.92      1.00      0.96        12\n",
            "\n",
            "       accuracy                           0.97        38\n",
            "      macro avg       0.97      0.98      0.98        38\n",
            "   weighted avg       0.98      0.97      0.97        38\n",
            "\n"
          ],
          "name": "stdout"
        }
      ]
    },
    {
      "cell_type": "code",
      "metadata": {
        "colab": {
          "base_uri": "https://localhost:8080/"
        },
        "id": "Ykw2wSM2lmo3",
        "outputId": "e9adb505-12c7-444b-cfaa-2b69ad15945c"
      },
      "source": [
        "# Somente a acurácia\n",
        "\n",
        "from termcolor import colored as cl\n",
        "from sklearn.metrics import accuracy_score\n",
        "\n",
        "yhat = knn.predict(x_test)\n",
        "\n",
        "print(cl('Prediction Accuracy Score (%) :', attrs = ['bold']), round(accuracy_score(y_test, yhat)*100, 2))"
      ],
      "execution_count": null,
      "outputs": [
        {
          "output_type": "stream",
          "text": [
            "\u001b[1mPrediction Accuracy Score (%) :\u001b[0m 97.37\n"
          ],
          "name": "stdout"
        }
      ]
    },
    {
      "cell_type": "code",
      "metadata": {
        "id": "0U5HUMWymj9g"
      },
      "source": [
        "# Valor de k\n",
        "\n",
        "from sklearn import metrics\n",
        "\n",
        "k_range = range(1, 30)\n",
        "\n",
        "scores = []\n",
        "\n",
        "for k in k_range:\n",
        "    knn = KNeighborsClassifier(n_neighbors=k)\n",
        "    knn.fit(x_train, y_train)\n",
        "    y_pred = knn.predict(x_test)\n",
        "    scores.append(metrics.accuracy_score(y_test, y_pred))\n"
      ],
      "execution_count": null,
      "outputs": []
    },
    {
      "cell_type": "code",
      "metadata": {
        "id": "SMTvQ9tGsnoP"
      },
      "source": [
        "# Gráfico de 'k'\n",
        "\n",
        "import matplotlib.pyplot as plt\n",
        "\n",
        "%matplotlib inline\n",
        "\n",
        "plt.plot(k_range, scores)\n",
        "plt.xlabel('Valores de k para k-NN')\n",
        "plt.ylabel('Acurácia')"
      ],
      "execution_count": null,
      "outputs": []
    },
    {
      "cell_type": "code",
      "metadata": {
        "id": "rJGfuF0LcPMK"
      },
      "source": [
        "# Gráfico de decisão - opcional\n",
        "\n",
        "df = pd.DataFrame(dataset)\n",
        "dicionario = {'Iris-setosa':0,\n",
        "              'Iris-versicolor':1,\n",
        "               'Iris-virginica':2}\n",
        "\n",
        "df['class'] = df['class'].map(dicionario)"
      ],
      "execution_count": null,
      "outputs": []
    },
    {
      "cell_type": "code",
      "metadata": {
        "id": "-_1M6QyxD4_p"
      },
      "source": [
        "colunas = ['sepal-length','sepal-width']\n",
        "X1 = df[colunas]\n",
        "X1 = X1.to_numpy()\n",
        "Y = df['class']\n",
        "Y = Y.to_numpy()"
      ],
      "execution_count": null,
      "outputs": []
    },
    {
      "cell_type": "code",
      "metadata": {
        "id": "EWL1M8KzJpva"
      },
      "source": [
        "import numpy as np\n",
        "import matplotlib.pyplot as plt\n",
        "from matplotlib.colors import ListedColormap\n",
        "from sklearn import neighbors\n",
        "\n",
        "n_neighbors = 5\n",
        "\n",
        "h = 0.02  # step size in the mesh\n",
        "\n",
        "# Cor dos mapas\n",
        "\n",
        "cmap_light = ListedColormap(['#FFAAAA', '#AAFFAA', '#AAAAFF'])\n",
        "cmap_bold = ListedColormap(['#FF0000', '#00FF00', '#0000FF'])\n",
        "\n",
        "for weights in ['uniform', 'distance']:\n",
        "    \n",
        "    clf = neighbors.KNeighborsClassifier(n_neighbors, weights=weights)\n",
        "    clf.fit(X1, Y)\n",
        "\n",
        "    x_min, x_max = X1[:, 0].min() - 1, X1[:, 0].max() + 1\n",
        "    y_min, y_max = X1[:, 1].min() - 1, X1[:, 1].max() + 1\n",
        "    xx, yy = np.meshgrid(np.arange(x_min, x_max, h),\n",
        "                         np.arange(y_min, y_max, h))\n",
        "    Z = clf.predict(np.c_[xx.ravel(), yy.ravel()])\n",
        "\n",
        "    # Resultado com a cor\n",
        "\n",
        "    Z = Z.reshape(xx.shape)\n",
        "    plt.figure()\n",
        "    plt.pcolormesh(xx, yy, Z, cmap=cmap_light)\n",
        "\n",
        "    plt.scatter(X1[:, 0], X1[:, 1], cmap=cmap_bold)\n",
        "    plt.xlim(xx.min(), xx.max())\n",
        "    plt.ylim(yy.min(), yy.max())\n",
        "    plt.title(\"3-Class classification (k = %i, weights = '%s')\"\n",
        "              % (n_neighbors, weights))\n",
        "\n",
        "plt.show()"
      ],
      "execution_count": null,
      "outputs": []
    },
    {
      "cell_type": "code",
      "metadata": {
        "id": "w8Ms3c0SJ68J"
      },
      "source": [
        "### Árvores de Decisão\n",
        "\n",
        "from sklearn import model_selection\n",
        "\n",
        "array = dataset.values\n",
        "X = array[:,0:4]\n",
        "Y = array[:,4]\n",
        "validation_size = 0.25\n",
        "seed = 10\n",
        "x_train, x_test, y_train, y_test = model_selection.train_test_split(X, Y, test_size=validation_size, random_state=seed)\n",
        "\n",
        "from sklearn import tree\n",
        "\n",
        "clf = tree.DecisionTreeClassifier()\n",
        "clf = clf.fit(x_train, y_train)\n",
        "\n",
        "tree.plot_tree(clf)"
      ],
      "execution_count": null,
      "outputs": []
    },
    {
      "cell_type": "code",
      "metadata": {
        "id": "MkZiCFL8M67A"
      },
      "source": [
        "df = dataset\n",
        "df1 = df[['sepal-length','sepal-width','petal-length','petal-width']]\n",
        "df2 = df['class']\n",
        "\n",
        "import graphviz\n",
        "dot_data = tree.export_graphviz(clf, out_file=None, \n",
        "                      feature_names=df1.columns,  \n",
        "                      class_names=df2,  \n",
        "                      filled=True, rounded=True,  \n",
        "                      special_characters=True)  \n",
        "graph = graphviz.Source(dot_data)  \n",
        "graph"
      ],
      "execution_count": null,
      "outputs": []
    },
    {
      "cell_type": "code",
      "metadata": {
        "id": "wasSQI3wPAtY"
      },
      "source": [
        "# Fazendo as previsões sobre os dados de teste\n",
        "\n",
        "y_pred1 = clf.predict(x_test)\n",
        "print(y_pred1)"
      ],
      "execution_count": null,
      "outputs": []
    },
    {
      "cell_type": "code",
      "metadata": {
        "id": "clwk5vVpQCdr"
      },
      "source": [
        "# Avaliando o Algoritmo\n",
        "\n",
        "from sklearn.metrics import classification_report, confusion_matrix \n",
        "\n",
        "print(confusion_matrix(y_test, y_pred1)) \n",
        "print(classification_report(y_test, y_pred1))"
      ],
      "execution_count": null,
      "outputs": []
    },
    {
      "cell_type": "code",
      "metadata": {
        "id": "nXXvxwTOQYR2"
      },
      "source": [
        "from termcolor import colored as cl\n",
        "from sklearn.metrics import accuracy_score\n",
        "\n",
        "yhat1 = clf.predict(x_test)\n",
        "\n",
        "print(cl('Prediction Accuracy Score (%) :', attrs = ['bold']), round(accuracy_score(y_test, yhat1)*100, 2))"
      ],
      "execution_count": null,
      "outputs": []
    },
    {
      "cell_type": "code",
      "metadata": {
        "id": "8H80mbCxQwxc"
      },
      "source": [
        "### Random Forest\n",
        "\n",
        "from sklearn.ensemble import RandomForestClassifier\n",
        "\n",
        "clf2=RandomForestClassifier(n_estimators=100)\n",
        "\n",
        "clf2.fit(x_train,y_train)\n",
        "\n",
        "y_pred2=clf2.predict(x_test)"
      ],
      "execution_count": null,
      "outputs": []
    },
    {
      "cell_type": "code",
      "metadata": {
        "id": "PBadGGmkxInx"
      },
      "source": [
        "# Avaliando o Algoritmo\n",
        "\n",
        "from sklearn.metrics import classification_report, confusion_matrix \n",
        "\n",
        "print(confusion_matrix(y_test, y_pred2)) \n",
        "print(classification_report(y_test, y_pred2))"
      ],
      "execution_count": null,
      "outputs": []
    },
    {
      "cell_type": "code",
      "metadata": {
        "id": "lz0mHgNdxTkb"
      },
      "source": [
        "yhat2 = clf2.predict(x_test)\n",
        "\n",
        "print(cl('Prediction Accuracy Score (%) :', attrs = ['bold']), round(accuracy_score(y_test, yhat2)*100, 2))"
      ],
      "execution_count": null,
      "outputs": []
    },
    {
      "cell_type": "code",
      "metadata": {
        "id": "B30j-35h0AYP"
      },
      "source": [
        "# Ordem de importância das variáveis\n",
        "\n",
        "df = dataset\n",
        "df1 = df[['sepal-length','sepal-width','petal-length','petal-width']]\n",
        "\n",
        "import pandas as pd\n",
        "feature_imp = pd.Series(clf2.feature_importances_,index=df1.columns).sort_values(ascending=False)\n",
        "feature_imp"
      ],
      "execution_count": null,
      "outputs": []
    },
    {
      "cell_type": "code",
      "metadata": {
        "id": "5fPw8Y5DNe1t"
      },
      "source": [
        "import matplotlib.pyplot as plt\n",
        "import seaborn as sns\n",
        "%matplotlib inline\n",
        "\n",
        "sns.barplot(x=feature_imp, y=feature_imp.index)"
      ],
      "execution_count": null,
      "outputs": []
    },
    {
      "cell_type": "code",
      "metadata": {
        "id": "OmzeQqbDNuSg"
      },
      "source": [
        "### Redes Neurais\n",
        "\n",
        "# Outra forma de obter o conjunto de dados íris\n",
        "\n",
        "import numpy as np\n",
        "from sklearn.model_selection import train_test_split\n",
        "from sklearn.preprocessing import OneHotEncoder\n",
        "from sklearn.datasets import load_iris\n",
        "\n",
        "iris = load_iris()\n",
        "x = iris.data\n",
        "y = iris.target.reshape(-1, 1) # Converte os dados em uma única coluna\n",
        "encoder = OneHotEncoder(sparse=False)\n",
        "y = encoder.fit_transform(y) # encode\n",
        "print(y)"
      ],
      "execution_count": null,
      "outputs": []
    },
    {
      "cell_type": "code",
      "metadata": {
        "id": "gDAsp6fdljiY"
      },
      "source": [
        "# Dados para treinamento e teste\n",
        "\n",
        "x_train, x_test, y_train, y_test = train_test_split(x, y, test_size=0.25)\n",
        "\n",
        "# Construção do modelo\n",
        "\n",
        "from keras.models import Sequential \n",
        "from keras.layers import Dense,Activation,Dropout \n",
        "from keras.layers.normalization import BatchNormalization \n",
        "from keras.utils import np_utils\n",
        "\n",
        "model=Sequential()\n",
        "model.add(Dense(1000,input_dim=4,activation='relu'))\n",
        "model.add(Dense(500,activation='relu'))\n",
        "model.add(Dense(300,activation='relu'))\n",
        "model.add(Dropout(0.2))\n",
        "model.add(Dense(3,activation='softmax'))\n",
        "model.compile(loss='categorical_crossentropy',optimizer='adam',metrics=['accuracy'])\n",
        "\n",
        "model.summary()"
      ],
      "execution_count": null,
      "outputs": []
    },
    {
      "cell_type": "code",
      "metadata": {
        "id": "zO_BYST4mb9o"
      },
      "source": [
        "model.fit(x_train,y_train,validation_data=(x_test,y_test),batch_size=20,epochs=10,verbose=1)"
      ],
      "execution_count": null,
      "outputs": []
    },
    {
      "cell_type": "code",
      "metadata": {
        "colab": {
          "base_uri": "https://localhost:8080/"
        },
        "id": "G-g5R2FKm6U_",
        "outputId": "edca8be7-6af2-489f-b560-47dc62857dfb"
      },
      "source": [
        "prediction=model.predict(x_test)\n",
        "length=len(prediction)\n",
        "y_label=np.argmax(y_test,axis=1)\n",
        "predict_label=np.argmax(prediction,axis=1)\n",
        "\n",
        "accuracy=np.sum(y_label==predict_label)/length * 100 \n",
        "print(\"Accuracy of the dataset\",accuracy )"
      ],
      "execution_count": null,
      "outputs": [
        {
          "output_type": "stream",
          "text": [
            "Accuracy of the dataset 84.21052631578947\n"
          ],
          "name": "stdout"
        }
      ]
    },
    {
      "cell_type": "code",
      "metadata": {
        "id": "H79rWRfonmLp"
      },
      "source": [
        " # %pip install ann_visualizer # instalar o pacote \n",
        "\n",
        "from ann_visualizer.visualize import ann_viz;\n",
        "from graphviz import Source\n",
        "\n",
        "ann_viz(model,view = True, title=\"Minha primeira rede neural\"); # visualização da rede neural\n",
        "graph_source = Source.from_file('network.gv')\n",
        "graph_source\n"
      ],
      "execution_count": null,
      "outputs": []
    },
    {
      "cell_type": "code",
      "metadata": {
        "id": "mvbHYjzgN52c"
      },
      "source": [
        "### Máquinas de Vetores de Suporte (SVM)\n",
        "\n",
        "import pandas as pd\n",
        "\n",
        "url = 'https://raw.githubusercontent.com/jbrownlee/Datasets/master/iris.csv'\n",
        "names = ['sepal-length', 'sepal-width', 'petal-length', 'petal-width', 'class']\n",
        "dataset = pd.read_csv(url, names=names)\n",
        "\n",
        "print(dataset.head(20))\n",
        "\n",
        "from sklearn import model_selection\n",
        "\n",
        "array = dataset.values\n",
        "X = array[:,0:4]\n",
        "Y = array[:,4]\n",
        "validation_size = 0.25\n",
        "seed = 10\n",
        "x_train, x_test, y_train, y_test = model_selection.train_test_split(X, Y, test_size=validation_size, random_state=seed)"
      ],
      "execution_count": null,
      "outputs": []
    },
    {
      "cell_type": "code",
      "metadata": {
        "id": "lUC3bUr3tj_t"
      },
      "source": [
        "from sklearn.svm import SVC\n",
        "model=SVC() # modelo\n",
        "model"
      ],
      "execution_count": null,
      "outputs": []
    },
    {
      "cell_type": "code",
      "metadata": {
        "id": "-VexD_DAuNuM"
      },
      "source": [
        "model.fit(x_train, y_train)\n",
        "pred=model.predict(x_test)\n",
        "\n",
        "from sklearn.metrics import classification_report, confusion_matrix # matriz de confusão\n",
        "print(confusion_matrix(y_test,pred))"
      ],
      "execution_count": null,
      "outputs": []
    },
    {
      "cell_type": "code",
      "metadata": {
        "id": "Ix4srSkIulJl"
      },
      "source": [
        "print(classification_report(y_test, pred))"
      ],
      "execution_count": null,
      "outputs": []
    },
    {
      "cell_type": "code",
      "metadata": {
        "id": "jHqOnPN8wz4P"
      },
      "source": [
        "# Somente a acurácia\n",
        "\n",
        "from termcolor import colored as cl\n",
        "from sklearn.metrics import accuracy_score\n",
        "\n",
        "yhat3 = model.predict(x_test)\n",
        "\n",
        "print(cl('Prediction Accuracy Score (%) :', attrs = ['bold']), round(accuracy_score(y_test, yhat3)*100, 2))"
      ],
      "execution_count": null,
      "outputs": []
    },
    {
      "cell_type": "code",
      "metadata": {
        "id": "1FNNlQH7_YIF"
      },
      "source": [
        "# Gráfico - opcional\n",
        "\n",
        "import numpy as np\n",
        "import matplotlib.pyplot as plt\n",
        "from sklearn import svm, datasets\n",
        "\n",
        "iris = datasets.load_iris()\n",
        "X = iris.data[:, :2]  # vamos utilizar aqui somente duas variáveis\n",
        "y = iris.target\n",
        "\n",
        "h = 0.02 \n",
        "C = 1.0 \n",
        "\n",
        "svc = svm.SVC(kernel='linear', C=C).fit(X, y)\n",
        "rbf_svc = svm.SVC(kernel='rbf', gamma=0.7, C=C).fit(X, y)\n",
        "poly_svc = svm.SVC(kernel='poly', degree=3, C=C).fit(X, y)\n",
        "lin_svc = svm.LinearSVC(C=C).fit(X, y)\n",
        "\n",
        "# create a mesh to plot in\n",
        "x_min, x_max = X[:, 0].min() - 1, X[:, 0].max() + 1\n",
        "y_min, y_max = X[:, 1].min() - 1, X[:, 1].max() + 1\n",
        "xx, yy = np.meshgrid(np.arange(x_min, x_max, h),\n",
        "                     np.arange(y_min, y_max, h))\n",
        "\n",
        "# Título dos gráficos \n",
        "\n",
        "titles = ['SVC with linear kernel',\n",
        "          'LinearSVC (linear kernel)',\n",
        "          'SVC with RBF kernel',\n",
        "          'SVC with polynomial (degree 3) kernel']\n",
        "\n",
        "\n",
        "for i, clf in enumerate((svc, lin_svc, rbf_svc, poly_svc)):\n",
        "    plt.subplot(2, 2, i + 1)\n",
        "    plt.subplots_adjust(wspace=0.4, hspace=0.4)\n",
        "\n",
        "    Z = clf.predict(np.c_[xx.ravel(), yy.ravel()])\n",
        "\n",
        "    Z = Z.reshape(xx.shape)\n",
        "    plt.contourf(xx, yy, Z, cmap=plt.cm.coolwarm, alpha=0.8)\n",
        "\n",
        "    ###\n",
        "    \n",
        "    plt.scatter(X[:, 0], X[:, 1], c=y, cmap=plt.cm.coolwarm)\n",
        "    plt.xlabel('Sepal length')\n",
        "    plt.ylabel('Sepal width')\n",
        "    plt.xlim(xx.min(), xx.max())\n",
        "    plt.ylim(yy.min(), yy.max())\n",
        "    plt.xticks(())\n",
        "    plt.yticks(())\n",
        "    plt.title(titles[i])\n",
        "\n",
        "plt.show()"
      ],
      "execution_count": null,
      "outputs": []
    },
    {
      "cell_type": "code",
      "metadata": {
        "id": "o7CL8C_g_u7u"
      },
      "source": [
        "# Gráfico curva ROC\n",
        "\n",
        "import numpy as np\n",
        "import pylab as pl\n",
        "from sklearn import svm, datasets\n",
        "from sklearn.utils import shuffle\n",
        "from sklearn.metrics import roc_curve, auc\n",
        "\n",
        "random_state = np.random.RandomState(0)\n",
        "\n",
        "# Import some data to play with\n",
        "iris = datasets.load_iris()\n",
        "X = iris.data\n",
        "y = iris.target\n",
        "\n",
        "# Make it a binary classification problem by removing the third class\n",
        "X, y = X[y != 2], y[y != 2]\n",
        "n_samples, n_features = X.shape\n",
        "\n",
        "# Add noisy features to make the problem harder\n",
        "X = np.c_[X, random_state.randn(n_samples, 200 * n_features)]\n",
        "\n",
        "# shuffle and split training and test sets\n",
        "X, y = shuffle(X, y, random_state=random_state)\n",
        "half = int(n_samples / 2)\n",
        "X_train, X_test = X[:half], X[half:]\n",
        "y_train, y_test = y[:half], y[half:]\n",
        "\n",
        "# Run classifier\n",
        "classifier = svm.SVC(kernel='linear', probability=True)\n",
        "probas_ = classifier.fit(X_train, y_train).predict_proba(X_test)\n",
        "\n",
        "# Compute ROC curve and area the curve\n",
        "fpr, tpr, thresholds = roc_curve(y_test, probas_[:, 1])\n",
        "roc_auc = auc(fpr, tpr)\n",
        "# print 'Area under the ROC curve : %f' % roc_auc\n",
        "\n",
        "# Plot ROC curve\n",
        "pl.clf()\n",
        "pl.plot(fpr, tpr, label='ROC curve (area = %0.2f)' % roc_auc)\n",
        "pl.plot([0, 1], [0, 1], 'k--')\n",
        "pl.xlim([0.0, 1.0])\n",
        "pl.ylim([0.0, 1.0])\n",
        "pl.xlabel('False Positive Rate')\n",
        "pl.ylabel('True Positive Rate')\n",
        "pl.title('Receiver operating characteristic example')\n",
        "pl.legend(loc=\"lower right\")\n",
        "pl.show()"
      ],
      "execution_count": null,
      "outputs": []
    },
    {
      "cell_type": "code",
      "metadata": {
        "id": "fy8l2ozUN9qE"
      },
      "source": [
        "### Regressão\n",
        "\n",
        "import pandas as pd\n",
        "\n",
        "url = 'https://raw.githubusercontent.com/jbrownlee/Datasets/master/iris.csv'\n",
        "names = ['sepal-length', 'sepal-width', 'petal-length', 'petal-width', 'class']\n",
        "df = pd.read_csv(url, names=names)\n",
        "\n",
        "X = df['petal-width'] # variável independente \n",
        "y = df['petal-length'] # variável dependente\n",
        "\n",
        "import numpy as np\n",
        "\n",
        "X = np.array(X).reshape((len(X), 1)) # transformação para ficar uma única coluna\n",
        "y = np.array(y).reshape(len(y),1)\n",
        "\n",
        "import matplotlib.pyplot as plt\n",
        "\n",
        "plt.scatter(X, y)\n",
        "plt.show()"
      ],
      "execution_count": null,
      "outputs": []
    },
    {
      "cell_type": "code",
      "metadata": {
        "id": "COw17r_GCuhA"
      },
      "source": [
        "# correlação\n",
        "\n",
        "df['petal-length'].corr(df['petal-width'])"
      ],
      "execution_count": null,
      "outputs": []
    },
    {
      "cell_type": "code",
      "metadata": {
        "colab": {
          "base_uri": "https://localhost:8080/",
          "height": 173
        },
        "id": "AQn4i3YE2kAC",
        "outputId": "291d5d1f-1c36-4743-e434-217b90873438"
      },
      "source": [
        "# Matriz de correlações\n",
        "\n",
        "import matplotlib.pyplot as plt\n",
        "import seaborn as sns\n",
        "%matplotlib inline\n",
        "\n",
        "df_corr = df.corr()\n",
        "df_corr"
      ],
      "execution_count": null,
      "outputs": [
        {
          "output_type": "execute_result",
          "data": {
            "text/html": [
              "<div>\n",
              "<style scoped>\n",
              "    .dataframe tbody tr th:only-of-type {\n",
              "        vertical-align: middle;\n",
              "    }\n",
              "\n",
              "    .dataframe tbody tr th {\n",
              "        vertical-align: top;\n",
              "    }\n",
              "\n",
              "    .dataframe thead th {\n",
              "        text-align: right;\n",
              "    }\n",
              "</style>\n",
              "<table border=\"1\" class=\"dataframe\">\n",
              "  <thead>\n",
              "    <tr style=\"text-align: right;\">\n",
              "      <th></th>\n",
              "      <th>sepal-length</th>\n",
              "      <th>sepal-width</th>\n",
              "      <th>petal-length</th>\n",
              "      <th>petal-width</th>\n",
              "    </tr>\n",
              "  </thead>\n",
              "  <tbody>\n",
              "    <tr>\n",
              "      <th>sepal-length</th>\n",
              "      <td>1.000000</td>\n",
              "      <td>-0.109369</td>\n",
              "      <td>0.871754</td>\n",
              "      <td>0.817954</td>\n",
              "    </tr>\n",
              "    <tr>\n",
              "      <th>sepal-width</th>\n",
              "      <td>-0.109369</td>\n",
              "      <td>1.000000</td>\n",
              "      <td>-0.420516</td>\n",
              "      <td>-0.356544</td>\n",
              "    </tr>\n",
              "    <tr>\n",
              "      <th>petal-length</th>\n",
              "      <td>0.871754</td>\n",
              "      <td>-0.420516</td>\n",
              "      <td>1.000000</td>\n",
              "      <td>0.962757</td>\n",
              "    </tr>\n",
              "    <tr>\n",
              "      <th>petal-width</th>\n",
              "      <td>0.817954</td>\n",
              "      <td>-0.356544</td>\n",
              "      <td>0.962757</td>\n",
              "      <td>1.000000</td>\n",
              "    </tr>\n",
              "  </tbody>\n",
              "</table>\n",
              "</div>"
            ],
            "text/plain": [
              "              sepal-length  sepal-width  petal-length  petal-width\n",
              "sepal-length      1.000000    -0.109369      0.871754     0.817954\n",
              "sepal-width      -0.109369     1.000000     -0.420516    -0.356544\n",
              "petal-length      0.871754    -0.420516      1.000000     0.962757\n",
              "petal-width       0.817954    -0.356544      0.962757     1.000000"
            ]
          },
          "metadata": {
            "tags": []
          },
          "execution_count": 108
        }
      ]
    },
    {
      "cell_type": "code",
      "metadata": {
        "id": "TwcP8vP_4z0Z"
      },
      "source": [
        "sns.heatmap(df_corr, \n",
        "        xticklabels=df_corr.columns,\n",
        "        yticklabels=df_corr.columns)\n",
        "\n",
        "plt.title('Correlação')\n",
        "plt.show()"
      ],
      "execution_count": null,
      "outputs": []
    },
    {
      "cell_type": "code",
      "metadata": {
        "id": "f5Fzyiiaj_LQ"
      },
      "source": [
        "# Conjuntos de treino e teste\n",
        "\n",
        "from sklearn import model_selection\n",
        "\n",
        "validation_size = 0.25\n",
        "seed = 10\n",
        "\n",
        "x_train, x_test, y_train, y_test = model_selection.train_test_split(X, y, test_size=validation_size, random_state=seed)"
      ],
      "execution_count": null,
      "outputs": []
    },
    {
      "cell_type": "code",
      "metadata": {
        "id": "A2NTt2Kqky8I"
      },
      "source": [
        "# Modelo de regressão linear simples\n",
        "\n",
        "from sklearn.linear_model import LinearRegression\n",
        "\n",
        "lr = LinearRegression()\n",
        "lr.fit(x_train, y_train)"
      ],
      "execution_count": null,
      "outputs": []
    },
    {
      "cell_type": "code",
      "metadata": {
        "id": "ODjBIJMNsrfi"
      },
      "source": [
        "print('intercepto:', lr.intercept_) # intercepto"
      ],
      "execution_count": null,
      "outputs": []
    },
    {
      "cell_type": "code",
      "metadata": {
        "id": "L5UT_bFrsx5o"
      },
      "source": [
        "print('inclinação:', lr.coef_) # inclinação"
      ],
      "execution_count": null,
      "outputs": []
    },
    {
      "cell_type": "code",
      "metadata": {
        "colab": {
          "base_uri": "https://localhost:8080/"
        },
        "id": "l1Xi3uHstA8H",
        "outputId": "cbc8b31c-a531-4006-9f69-ab490108e629"
      },
      "source": [
        "r_sq = lr.score(x_train, y_train)\n",
        "print('coeficiente de determinação:', r_sq) # R^2"
      ],
      "execution_count": null,
      "outputs": [
        {
          "output_type": "stream",
          "text": [
            "coeficiente de determinação: 0.9276802662656223\n"
          ],
          "name": "stdout"
        }
      ]
    },
    {
      "cell_type": "code",
      "metadata": {
        "id": "B5gpSsuMtSAp"
      },
      "source": [
        "y_pred=lr.predict(x_test) # valores preditos\n",
        "y_pred"
      ],
      "execution_count": null,
      "outputs": []
    },
    {
      "cell_type": "code",
      "metadata": {
        "id": "mXcAxZYB9prQ"
      },
      "source": [
        "# Valores observados versus valores preditos\n",
        "\n",
        "plt.plot(x_test, y_test, 'b.', label='observados')\n",
        "plt.plot([x_test.min(), x_test.max()], [y_pred.min(), y_pred.max()],\n",
        "         'r-', label='preditos')\n",
        "plt.xlabel('Petal width')\n",
        "plt.ylabel('Petal length')\n",
        "plt.legend()\n",
        "plt.show()"
      ],
      "execution_count": null,
      "outputs": []
    },
    {
      "cell_type": "code",
      "metadata": {
        "id": "vwSZ4NuitxIK"
      },
      "source": [
        "# Performance do modelo\n",
        "\n",
        "from sklearn.metrics import mean_squared_error\n",
        "\n",
        "print('Mean Squared Error:', mean_squared_error(y_test, y_pred)) # MSE\n",
        "print('Mean Root Squared Error:', np.sqrt(mean_squared_error(y_test, y_pred))) # MRSE"
      ],
      "execution_count": null,
      "outputs": []
    },
    {
      "cell_type": "code",
      "metadata": {
        "id": "0GZiTjwZ5Q9O"
      },
      "source": [
        "import pandas as pd\n",
        "from statsmodels.formula.api import ols\n",
        "from statsmodels.stats.anova import anova_lm\n",
        "import seaborn.apionly as sns\n",
        "import statsmodels.api as sm\n",
        " \n",
        "# Modelando com statsmodels\n",
        "\n",
        "url = 'https://raw.githubusercontent.com/jbrownlee/Datasets/master/iris.csv'\n",
        "names = ['sepal-length', 'sepal-width', 'petal-length', 'petal-width', 'class']\n",
        "df = pd.read_csv(url, names=names)\n",
        "\n",
        "X = df['petal-width'] \n",
        "Y = df['petal-length']\n",
        "\n",
        "model = sm.OLS(Y,X) # aqui estamos utilizando todos os dados\n",
        "results = model.fit()\n",
        "statsmodels_y_fitted = results.predict()\n",
        "print(results.summary())"
      ],
      "execution_count": null,
      "outputs": []
    },
    {
      "cell_type": "code",
      "metadata": {
        "id": "MnpLjQu1K50l"
      },
      "source": [
        "import matplotlib.pyplot as plt\n",
        "axes = df.plot(x='petal-width', y='petal-length', kind='scatter', color='yellow')\n",
        "plt.plot(df['petal-width'], results.predict(), color='black', linewidth=3)\n",
        "plt.show()"
      ],
      "execution_count": null,
      "outputs": []
    },
    {
      "cell_type": "code",
      "metadata": {
        "id": "aE4P8BSwMumC"
      },
      "source": [
        "# Clusters - K-means\n",
        "\n",
        "import numpy as np\n",
        "import matplotlib.pyplot as plt\n",
        "import pandas as pd\n",
        "from sklearn import datasets\n",
        "\n",
        "iris = datasets.load_iris()\n",
        "x = iris.data[:, :4]  \n",
        "y = iris.target # já codificadas\n",
        "\n",
        "from sklearn.cluster import KMeans\n",
        "wcss = []\n",
        "\n",
        "for i in range(1, 11):\n",
        "    kmeans = KMeans(n_clusters = i, init = 'k-means++', max_iter = 300, n_init = 10, random_state = 0)\n",
        "    kmeans.fit(x)\n",
        "    wcss.append(kmeans.inertia_)\n",
        "\n",
        "plt.plot(range(1, 11), wcss)\n",
        "plt.title('O método de Elbow')\n",
        "plt.xlabel('Número de clusters')\n",
        "plt.ylabel('WCSS') # WCSS - within cluster sum of squares\n",
        "plt.show()"
      ],
      "execution_count": null,
      "outputs": []
    },
    {
      "cell_type": "code",
      "metadata": {
        "id": "VKtrrDrYykW4"
      },
      "source": [
        "kmeans = KMeans(n_clusters = 3, init = 'k-means++', max_iter = 300, n_init = 10, random_state = 0)\n",
        "y_kmeans = kmeans.fit_predict(x)\n",
        "\n",
        "# Visualizando os clusters\n",
        "\n",
        "plt.scatter(x[y_kmeans == 0, 0], x[y_kmeans == 0, 1], s = 100, c = 'red', label = 'Iris-setosa')\n",
        "plt.scatter(x[y_kmeans == 1, 0], x[y_kmeans == 1, 1], s = 100, c = 'blue', label = 'Iris-versicolour')\n",
        "plt.scatter(x[y_kmeans == 2, 0], x[y_kmeans == 2, 1], s = 100, c = 'green', label = 'Iris-virginica')\n"
      ],
      "execution_count": null,
      "outputs": []
    },
    {
      "cell_type": "code",
      "metadata": {
        "id": "EQQyrkZNy1gP"
      },
      "source": [
        "# Gráfico com os centróides\n",
        "\n",
        "plt.scatter(x[y_kmeans == 0, 0], x[y_kmeans == 0, 1], s = 100, c = 'red', label = 'Iris-setosa')\n",
        "plt.scatter(x[y_kmeans == 1, 0], x[y_kmeans == 1, 1], s = 100, c = 'blue', label = 'Iris-versicolour')\n",
        "plt.scatter(x[y_kmeans == 2, 0], x[y_kmeans == 2, 1], s = 100, c = 'green', label = 'Iris-virginica')\n",
        "plt.scatter(kmeans.cluster_centers_[:, 0], kmeans.cluster_centers_[:,1], s = 100, c = 'yellow', label = 'Centroids')\n",
        "\n",
        "plt.legend()"
      ],
      "execution_count": null,
      "outputs": []
    },
    {
      "cell_type": "code",
      "metadata": {
        "id": "voTQBWZx6z1H"
      },
      "source": [
        "# Gráfico 3D\n",
        "\n",
        "from mpl_toolkits.mplot3d import Axes3D\n",
        "\n",
        "km = KMeans(n_clusters=3)\n",
        "km.fit(x)\n",
        "km.predict(x)\n",
        "labels = km.labels_\n",
        "fig = plt.figure(1, figsize=(8,8))\n",
        "ax = Axes3D(fig, rect=[0, 0, 0.95, 1], elev=50, azim=134)\n",
        "ax.scatter(x[:, 3], x[:, 0], x[:, 2],\n",
        "          c=labels.astype(np.float), edgecolor=\"k\", s=50)\n",
        "ax.set_xlabel(\"Petal width\")\n",
        "ax.set_ylabel(\"Sepal length\")\n",
        "ax.set_zlabel(\"Petal length\")\n",
        "plt.title(\"K Means\", fontsize=14)"
      ],
      "execution_count": null,
      "outputs": []
    },
    {
      "cell_type": "code",
      "metadata": {
        "id": "t0JVger7A5at"
      },
      "source": [
        "from sklearn import preprocessing\n",
        "\n",
        "normalized_x = preprocessing.normalize(x)\n",
        "normalized_x[:10] # mostra as 10 primeiras observações\n",
        "\n",
        "kmeansn = KMeans(n_clusters = 3, init = 'k-means++', max_iter = 300, n_init = 10, random_state = 0) # com dados normalizados\n",
        "y_kmeansn = kmeans.fit_predict(normalized_x)\n",
        "\n",
        "# Visualizando os clusters\n",
        "\n",
        "plt.scatter(normalized_x[y_kmeans == 0, 0], normalized_x[y_kmeans == 0, 1], s = 100, c = 'red', label = 'Iris-setosa')\n",
        "plt.scatter(normalized_x[y_kmeans == 1, 0], normalized_x[y_kmeans == 1, 1], s = 100, c = 'blue', label = 'Iris-versicolour')\n",
        "plt.scatter(normalized_x[y_kmeans == 2, 0], normalized_x[y_kmeans == 2, 1], s = 100, c = 'green', label = 'Iris-virginica')\n"
      ],
      "execution_count": null,
      "outputs": []
    },
    {
      "cell_type": "code",
      "metadata": {
        "id": "STGk6MAK7gEp"
      },
      "source": [
        "# Gráfico 3D com dados normalizados\n",
        "\n",
        "from mpl_toolkits.mplot3d import Axes3D\n",
        "\n",
        "km = KMeans(n_clusters=3)\n",
        "km.fit(normalized_x)\n",
        "km.predict(normalized_x)\n",
        "labels = km.labels_\n",
        "\n",
        "fig = plt.figure(1, figsize=(7,7))\n",
        "ax = Axes3D(fig, rect=[0, 0, 0.95, 1], elev=48, azim=134)\n",
        "ax.scatter(normalized_x[:, 3], normalized_x[:, 0], normalized_x[:, 2],\n",
        "          c=labels.astype(np.float), edgecolor=\"k\", s=50)\n",
        "ax.set_xlabel(\"Petal width\")\n",
        "ax.set_ylabel(\"Sepal length\")\n",
        "ax.set_zlabel(\"Petal length\")\n",
        "plt.title(\"K Means\", fontsize=14)"
      ],
      "execution_count": null,
      "outputs": []
    },
    {
      "cell_type": "code",
      "metadata": {
        "id": "7yBCiSkjHCi8"
      },
      "source": [
        "# Dendograma\n",
        "\n",
        "from scipy.cluster.hierarchy import linkage\n",
        "linkage_type = 'ward'\n",
        "\n",
        "linkage_matrix = linkage(normalized_x, linkage_type)\n",
        "\n",
        "from scipy.cluster.hierarchy import dendrogram\n",
        "import matplotlib.pyplot as plt\n",
        "plt.figure(figsize=(22,18))\n",
        "\n",
        "# Gráfico do dendograma\n",
        "dendrogram(linkage_matrix)\n",
        "\n",
        "plt.show()"
      ],
      "execution_count": null,
      "outputs": []
    },
    {
      "cell_type": "code",
      "metadata": {
        "id": "ORVrgWDXHXA-"
      },
      "source": [
        "# outro gráfico\n",
        "\n",
        "import seaborn as sns\n",
        "\n",
        "sns.clustermap(normalized_x, figsize=(12,18), method=linkage_type, cmap='viridis')\n",
        "plt.show()"
      ],
      "execution_count": null,
      "outputs": []
    }
  ]
}